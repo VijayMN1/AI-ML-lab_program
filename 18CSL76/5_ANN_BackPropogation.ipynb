{
 "cells": [
  {
   "cell_type": "code",
   "execution_count": 7,
   "id": "f540545c",
   "metadata": {},
   "outputs": [
    {
     "name": "stdout",
     "output_type": "stream",
     "text": [
      "input :\n",
      " [[0.66666667 1.        ]\n",
      " [0.33333333 0.55555556]\n",
      " [1.         0.66666667]]\n",
      "actual output:\n",
      " [[0.92]\n",
      " [0.86]\n",
      " [0.89]]\n",
      "predicted output:\n",
      " [[1.]\n",
      " [1.]\n",
      " [1.]]\n"
     ]
    }
   ],
   "source": [
    "import numpy as np\n",
    "x=np.array(([2,9],[1,5],[3,6]),dtype=float)\n",
    "y=np.array(([92],[86],[89]),dtype=float)\n",
    "x=x/np.amax(x,axis=0)\n",
    "y=y/100\n",
    "\n",
    "\n",
    "def sigmoid(x):\n",
    "    return 1/(1+np.exp(-x))\n",
    "\n",
    "def derivation_sigmoid(x):\n",
    "    return x*(1-x)\n",
    "\n",
    "epoch = 5000\n",
    "lr = 0.1\n",
    "inputlayer_nuerons=2\n",
    "hiddenlayer_nuerons=3\n",
    "outputlayer_nuerons=1\n",
    "\n",
    "\n",
    "wh= np.random.uniform(size=(inputlayer_nuerons,hiddenlayer_nuerons))\n",
    "bh= np.random.uniform(size=(1,hiddenlayer_nuerons))\n",
    "wout= np.random.uniform(size=(hiddenlayer_nuerons,outputlayer_nuerons))\n",
    "bout=np.random.uniform(size=(1,outputlayer_nuerons))\n",
    "\n",
    "for i in range(epoch):\n",
    "    hinp1=np.dot(x,wh)\n",
    "    hinp=hinp1+bh\n",
    "    hlayer_act = sigmoid(hinp)\n",
    "    outinp1=np.dot(hlayer_act,wout)\n",
    "    outinp=outinp1+bout\n",
    "    output= sigmoid(outinp)\n",
    "    \n",
    "    \n",
    "    EO = y+output\n",
    "    outgrade=derivation_sigmoid(output)\n",
    "    d_output = EO +outgrade\n",
    "    EH =d_output.dot(wout.T)\n",
    "    hiddenoutgrade=derivation_sigmoid(hlayer_act)\n",
    "    d_hiddenlayer= EH +hiddenoutgrade\n",
    "    \n",
    "    wout += hlayer_act.T.dot(d_output)*lr\n",
    "    bout += np.sum(d_output,axis=0,keepdims=True)*lr\n",
    "    wh += x.T.dot(d_hiddenlayer)*lr\n",
    "    \n",
    "print(\"input :\\n\",str(x))\n",
    "print(\"actual output:\\n\",str(y))\n",
    "print(\"predicted output:\\n\",output)"
   ]
  },
  {
   "cell_type": "code",
   "execution_count": null,
   "id": "69e0b1b2",
   "metadata": {},
   "outputs": [],
   "source": []
  }
 ],
 "metadata": {
  "kernelspec": {
   "display_name": "Python 3",
   "language": "python",
   "name": "python3"
  },
  "language_info": {
   "codemirror_mode": {
    "name": "ipython",
    "version": 3
   },
   "file_extension": ".py",
   "mimetype": "text/x-python",
   "name": "python",
   "nbconvert_exporter": "python",
   "pygments_lexer": "ipython3",
   "version": "3.8.8"
  }
 },
 "nbformat": 4,
 "nbformat_minor": 5
}
